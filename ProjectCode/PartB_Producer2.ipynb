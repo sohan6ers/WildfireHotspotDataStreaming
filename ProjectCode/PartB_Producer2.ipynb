{
 "cells": [
  {
   "cell_type": "markdown",
   "metadata": {},
   "source": [
    "Name: Sohan Pujar\n",
    "Student Code: 30567556\n",
    "Email: spuj0001@student.monash.edu"
   ]
  },
  {
   "cell_type": "code",
   "execution_count": null,
   "metadata": {},
   "outputs": [],
   "source": [
    "# import statements\n",
    "from time import sleep\n",
    "from json import dumps\n",
    "from kafka import KafkaProducer\n",
    "import random\n",
    "import datetime as dt\n",
    "import csv\n",
    "import pandas\n",
    "\n",
    "def publish_message(producer_instance, topic_name, key, data):\n",
    "    try:\n",
    "        key_bytes = bytes(key, encoding='utf-8') # Encoding message\n",
    "        producer_instance.send(topic_name, key=key_bytes, value=data) # Data sent\n",
    "        producer_instance.flush()\n",
    "        print('Message published successfully. Data: ' + str(data)) # Outputting string of data\n",
    "    except Exception as ex: # In case of error after trying the 'try' segment\n",
    "        print('Exception in publishing message.')\n",
    "        print(str(ex))\n",
    "        \n",
    "        \n",
    "def connect_kafka_producer():\n",
    "    _producer = None\n",
    "    try:\n",
    "        _producer = KafkaProducer(bootstrap_servers=['localhost:9092'],\n",
    "                                  value_serializer=lambda x:dumps(x).encode('ascii'),\n",
    "                                  api_version=(0, 10))\n",
    "    except Exception as ex:\n",
    "        print('Exception while connecting Kafka.')\n",
    "        print(str(ex))\n",
    "    finally:\n",
    "        return _producer #connecting the producer to the kafka topic\n",
    "    \n",
    "if __name__ == '__main__':\n",
    "   \n",
    "    topic = 'data' # Topic is the same as other producers\n",
    "    \n",
    "    print('Publishing records..')\n",
    "    producer = connect_kafka_producer()  # Connecting to kafka producer\n",
    "    \n",
    "\n",
    "    with open('hotspot_AQUA_streaming.csv') as csv_file:\n",
    "        csv_reader = csv.DictReader(csv_file) # Convert into Json format\n",
    "        result_list = []\n",
    "        i = 0\n",
    "        for row in csv_reader: # Ensuring correct data type\n",
    "            row['latitude'] = float(row['latitude'])\n",
    "            row['longitude'] = float(row['longitude'])\n",
    "            row['confidence'] = int(row['confidence'])\n",
    "            row['surface_temperature_celcius'] = float(row['surface_temperature_celcius'])\n",
    "            row['producer'] = 2\n",
    "            result_list.append(row)\n",
    "            i +=1\n",
    "        for m in range(300): #range i 300 as total time of streaming lasts 10mins for all prod\n",
    "            suck = random.randrange(0,i) # random integer acting as index\n",
    "            if m == 0:\n",
    "                result_list[suck]['date'] = pandas.to_datetime('01/01/2019').strftime(\"%d/%m/%Y, %H:%M:%S\") # Earliest date is 31/12/2018 so we start 01/01/2019\n",
    "            else:\n",
    "                result_list[suck]['date'] = (pandas.to_datetime('01/01/2019') + pandas.DateOffset(days=m*0.2)).strftime(\"%d/%m/%Y, %H:%M:%S\")# Add a new date to the record after every 10sec\n",
    "            publish_message(producer, topic, 'jsondata', result_list[suck])# Publish message to the topic\n",
    "            sleep(2)# 2 sec time intervals"
   ]
  }
 ],
 "metadata": {
  "kernelspec": {
   "display_name": "Python 3",
   "language": "python",
   "name": "python3"
  },
  "language_info": {
   "codemirror_mode": {
    "name": "ipython",
    "version": 3
   },
   "file_extension": ".py",
   "mimetype": "text/x-python",
   "name": "python",
   "nbconvert_exporter": "python",
   "pygments_lexer": "ipython3",
   "version": "3.5.2"
  }
 },
 "nbformat": 4,
 "nbformat_minor": 2
}
